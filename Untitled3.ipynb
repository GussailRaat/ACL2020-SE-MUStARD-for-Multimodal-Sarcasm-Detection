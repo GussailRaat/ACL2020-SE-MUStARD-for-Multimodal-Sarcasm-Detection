{
  "nbformat": 4,
  "nbformat_minor": 0,
  "metadata": {
    "colab": {
      "provenance": [],
      "authorship_tag": "ABX9TyPn4RlbFyiUqa70NOuco/t7",
      "include_colab_link": true
    },
    "kernelspec": {
      "name": "python3",
      "display_name": "Python 3"
    },
    "language_info": {
      "name": "python"
    }
  },
  "cells": [
    {
      "cell_type": "markdown",
      "metadata": {
        "id": "view-in-github",
        "colab_type": "text"
      },
      "source": [
        "<a href=\"https://colab.research.google.com/github/GussailRaat/ACL2020-SE-MUStARD-for-Multimodal-Sarcasm-Detection/blob/main/Untitled3.ipynb\" target=\"_parent\"><img src=\"https://colab.research.google.com/assets/colab-badge.svg\" alt=\"Open In Colab\"/></a>"
      ]
    },
    {
      "cell_type": "code",
      "source": [],
      "metadata": {
        "id": "X59Kw81ooI4p"
      },
      "execution_count": null,
      "outputs": []
    },
    {
      "cell_type": "code",
      "execution_count": null,
      "metadata": {
        "id": "5WJsklhkfQ0i"
      },
      "outputs": [],
      "source": [
        "# K-Means clustering algorithm for the following dataset:\n",
        "\n",
        "import numpy as np\n",
        "data = np.array([[1, 2], [1, 4], [1, 0],\n",
        "      [4, 2], [4, 4], [4, 0]])\n",
        "\n",
        "\t# Use ( K = 2 ) and initialize the centroids as ([1, 2]) and ([4, 4]). Perform 2 iterations and return the final cluster assignments."
      ]
    },
    {
      "cell_type": "code",
      "source": [
        "for i in range(len(data))\n",
        "\n",
        "  (1-data[0][0])^2 + (2-data[0][1])^2"
      ],
      "metadata": {
        "colab": {
          "base_uri": "https://localhost:8080/"
        },
        "id": "6geFX89cgM6r",
        "outputId": "417fc73b-4cd0-4d31-ae88-7c0b6f1db660"
      },
      "execution_count": null,
      "outputs": [
        {
          "output_type": "execute_result",
          "data": {
            "text/plain": [
              "np.int64(0)"
            ]
          },
          "metadata": {},
          "execution_count": 8
        }
      ]
    }
  ]
}